{
 "cells": [
  {
   "cell_type": "markdown",
   "id": "351e7c78-3264-4340-8db1-34f501d47503",
   "metadata": {},
   "source": [
    "# Testing sales efficiency of two campaigns run simmultanously"
   ]
  },
  {
   "cell_type": "code",
   "execution_count": 145,
   "id": "5917ab3f-8cc7-427f-86cd-a601b485a446",
   "metadata": {},
   "outputs": [],
   "source": [
    "import numpy as np\n",
    "import pandas as pd\n",
    "from scipy.stats import ttest_ind\n",
    "from scipy.stats import ttest_rel"
   ]
  },
  {
   "cell_type": "markdown",
   "id": "43490466-544f-450e-82aa-c0cad82015db",
   "metadata": {},
   "source": [
    "## Import Data"
   ]
  },
  {
   "cell_type": "code",
   "execution_count": 146,
   "id": "b4ae81b6-39e1-4134-aa84-04866c095e19",
   "metadata": {},
   "outputs": [],
   "source": [
    "# import data\n",
    "control_group = pd.read_csv(\"control_group.csv\", sep = \";\")\n",
    "test_group = pd.read_csv(\"test_group.csv\", sep = \";\")"
   ]
  },
  {
   "cell_type": "code",
   "execution_count": 147,
   "id": "efea2afc-ae27-425c-bd33-10d764f76db4",
   "metadata": {},
   "outputs": [
    {
     "data": {
      "text/html": [
       "<div>\n",
       "<style scoped>\n",
       "    .dataframe tbody tr th:only-of-type {\n",
       "        vertical-align: middle;\n",
       "    }\n",
       "\n",
       "    .dataframe tbody tr th {\n",
       "        vertical-align: top;\n",
       "    }\n",
       "\n",
       "    .dataframe thead th {\n",
       "        text-align: right;\n",
       "    }\n",
       "</style>\n",
       "<table border=\"1\" class=\"dataframe\">\n",
       "  <thead>\n",
       "    <tr style=\"text-align: right;\">\n",
       "      <th></th>\n",
       "      <th>Spend [USD]</th>\n",
       "      <th># of Impressions</th>\n",
       "      <th>Reach</th>\n",
       "      <th># of Website Clicks</th>\n",
       "      <th># of Searches</th>\n",
       "      <th># of View Content</th>\n",
       "      <th># of Add to Cart</th>\n",
       "      <th># of Purchase</th>\n",
       "    </tr>\n",
       "  </thead>\n",
       "  <tbody>\n",
       "    <tr>\n",
       "      <th>count</th>\n",
       "      <td>30.000000</td>\n",
       "      <td>29.000000</td>\n",
       "      <td>29.000000</td>\n",
       "      <td>29.000000</td>\n",
       "      <td>29.000000</td>\n",
       "      <td>29.000000</td>\n",
       "      <td>29.000000</td>\n",
       "      <td>29.000000</td>\n",
       "    </tr>\n",
       "    <tr>\n",
       "      <th>mean</th>\n",
       "      <td>2288.433333</td>\n",
       "      <td>109559.758621</td>\n",
       "      <td>88844.931034</td>\n",
       "      <td>5320.793103</td>\n",
       "      <td>2221.310345</td>\n",
       "      <td>1943.793103</td>\n",
       "      <td>1300.000000</td>\n",
       "      <td>522.793103</td>\n",
       "    </tr>\n",
       "    <tr>\n",
       "      <th>std</th>\n",
       "      <td>367.334451</td>\n",
       "      <td>21688.922908</td>\n",
       "      <td>21832.349595</td>\n",
       "      <td>1757.369003</td>\n",
       "      <td>866.089368</td>\n",
       "      <td>777.545469</td>\n",
       "      <td>407.457973</td>\n",
       "      <td>185.028642</td>\n",
       "    </tr>\n",
       "    <tr>\n",
       "      <th>min</th>\n",
       "      <td>1757.000000</td>\n",
       "      <td>71274.000000</td>\n",
       "      <td>42859.000000</td>\n",
       "      <td>2277.000000</td>\n",
       "      <td>1001.000000</td>\n",
       "      <td>848.000000</td>\n",
       "      <td>442.000000</td>\n",
       "      <td>222.000000</td>\n",
       "    </tr>\n",
       "    <tr>\n",
       "      <th>25%</th>\n",
       "      <td>1945.500000</td>\n",
       "      <td>92029.000000</td>\n",
       "      <td>74192.000000</td>\n",
       "      <td>4085.000000</td>\n",
       "      <td>1615.000000</td>\n",
       "      <td>1249.000000</td>\n",
       "      <td>930.000000</td>\n",
       "      <td>372.000000</td>\n",
       "    </tr>\n",
       "    <tr>\n",
       "      <th>50%</th>\n",
       "      <td>2299.500000</td>\n",
       "      <td>113430.000000</td>\n",
       "      <td>91579.000000</td>\n",
       "      <td>5224.000000</td>\n",
       "      <td>2390.000000</td>\n",
       "      <td>1984.000000</td>\n",
       "      <td>1339.000000</td>\n",
       "      <td>501.000000</td>\n",
       "    </tr>\n",
       "    <tr>\n",
       "      <th>75%</th>\n",
       "      <td>2532.000000</td>\n",
       "      <td>121332.000000</td>\n",
       "      <td>102479.000000</td>\n",
       "      <td>6628.000000</td>\n",
       "      <td>2711.000000</td>\n",
       "      <td>2421.000000</td>\n",
       "      <td>1641.000000</td>\n",
       "      <td>670.000000</td>\n",
       "    </tr>\n",
       "    <tr>\n",
       "      <th>max</th>\n",
       "      <td>3083.000000</td>\n",
       "      <td>145248.000000</td>\n",
       "      <td>127852.000000</td>\n",
       "      <td>8137.000000</td>\n",
       "      <td>4891.000000</td>\n",
       "      <td>4219.000000</td>\n",
       "      <td>1913.000000</td>\n",
       "      <td>800.000000</td>\n",
       "    </tr>\n",
       "  </tbody>\n",
       "</table>\n",
       "</div>"
      ],
      "text/plain": [
       "       Spend [USD]  # of Impressions          Reach  # of Website Clicks  \\\n",
       "count    30.000000         29.000000      29.000000            29.000000   \n",
       "mean   2288.433333     109559.758621   88844.931034          5320.793103   \n",
       "std     367.334451      21688.922908   21832.349595          1757.369003   \n",
       "min    1757.000000      71274.000000   42859.000000          2277.000000   \n",
       "25%    1945.500000      92029.000000   74192.000000          4085.000000   \n",
       "50%    2299.500000     113430.000000   91579.000000          5224.000000   \n",
       "75%    2532.000000     121332.000000  102479.000000          6628.000000   \n",
       "max    3083.000000     145248.000000  127852.000000          8137.000000   \n",
       "\n",
       "       # of Searches  # of View Content  # of Add to Cart  # of Purchase  \n",
       "count      29.000000          29.000000         29.000000      29.000000  \n",
       "mean     2221.310345        1943.793103       1300.000000     522.793103  \n",
       "std       866.089368         777.545469        407.457973     185.028642  \n",
       "min      1001.000000         848.000000        442.000000     222.000000  \n",
       "25%      1615.000000        1249.000000        930.000000     372.000000  \n",
       "50%      2390.000000        1984.000000       1339.000000     501.000000  \n",
       "75%      2711.000000        2421.000000       1641.000000     670.000000  \n",
       "max      4891.000000        4219.000000       1913.000000     800.000000  "
      ]
     },
     "execution_count": 147,
     "metadata": {},
     "output_type": "execute_result"
    }
   ],
   "source": [
    "# Basic statistics\n",
    "control_group.describe()\n",
    "# The number of purchases reflects the number of customers, hece this is the main variable of interst"
   ]
  },
  {
   "cell_type": "markdown",
   "id": "a4514706-fbae-4bfe-ab60-9efa9d6b5f2b",
   "metadata": {},
   "source": [
    "## Analyze missing data"
   ]
  },
  {
   "cell_type": "code",
   "execution_count": 148,
   "id": "f5fa907d-20e0-472d-b7a8-057e66ec64d3",
   "metadata": {},
   "outputs": [
    {
     "data": {
      "text/html": [
       "<div>\n",
       "<style scoped>\n",
       "    .dataframe tbody tr th:only-of-type {\n",
       "        vertical-align: middle;\n",
       "    }\n",
       "\n",
       "    .dataframe tbody tr th {\n",
       "        vertical-align: top;\n",
       "    }\n",
       "\n",
       "    .dataframe thead th {\n",
       "        text-align: right;\n",
       "    }\n",
       "</style>\n",
       "<table border=\"1\" class=\"dataframe\">\n",
       "  <thead>\n",
       "    <tr style=\"text-align: right;\">\n",
       "      <th></th>\n",
       "      <th>Campaign Name</th>\n",
       "      <th>Date</th>\n",
       "      <th>Spend [USD]</th>\n",
       "      <th># of Impressions</th>\n",
       "      <th>Reach</th>\n",
       "      <th># of Website Clicks</th>\n",
       "      <th># of Searches</th>\n",
       "      <th># of View Content</th>\n",
       "      <th># of Add to Cart</th>\n",
       "      <th># of Purchase</th>\n",
       "    </tr>\n",
       "  </thead>\n",
       "  <tbody>\n",
       "    <tr>\n",
       "      <th>4</th>\n",
       "      <td>Control Campaign</td>\n",
       "      <td>5.08.2019</td>\n",
       "      <td>1835</td>\n",
       "      <td>NaN</td>\n",
       "      <td>NaN</td>\n",
       "      <td>NaN</td>\n",
       "      <td>NaN</td>\n",
       "      <td>NaN</td>\n",
       "      <td>NaN</td>\n",
       "      <td>NaN</td>\n",
       "    </tr>\n",
       "  </tbody>\n",
       "</table>\n",
       "</div>"
      ],
      "text/plain": [
       "      Campaign Name       Date  Spend [USD]  # of Impressions  Reach  \\\n",
       "4  Control Campaign  5.08.2019         1835               NaN    NaN   \n",
       "\n",
       "   # of Website Clicks  # of Searches  # of View Content  # of Add to Cart  \\\n",
       "4                  NaN            NaN                NaN               NaN   \n",
       "\n",
       "   # of Purchase  \n",
       "4            NaN  "
      ]
     },
     "execution_count": 148,
     "metadata": {},
     "output_type": "execute_result"
    }
   ],
   "source": [
    "control_group[control_group.isnull().any(axis=1)]"
   ]
  },
  {
   "cell_type": "code",
   "execution_count": 149,
   "id": "5ed6b61b-be9e-4b41-8c57-aa3b990780e1",
   "metadata": {},
   "outputs": [
    {
     "name": "stdout",
     "output_type": "stream",
     "text": [
      "Records missing in the control group\n",
      "\n",
      ":       Campaign Name       Date  Spend [USD]  # of Impressions  Reach  \\\n",
      "4  Control Campaign  5.08.2019         1835               NaN    NaN   \n",
      "\n",
      "   # of Website Clicks  # of Searches  # of View Content  # of Add to Cart  \\\n",
      "4                  NaN            NaN                NaN               NaN   \n",
      "\n",
      "   # of Purchase  \n",
      "4            NaN  \n",
      "\n",
      "\n",
      "Records missing in the test group\n",
      "\n",
      ": Empty DataFrame\n",
      "Columns: [Campaign Name, Date, Spend [USD], # of Impressions, Reach, # of Website Clicks, # of Searches, # of View Content, # of Add to Cart, # of Purchase]\n",
      "Index: []\n"
     ]
    }
   ],
   "source": [
    "\n",
    "missing_control = control_group[control_group.isnull().any(axis=1)]\n",
    "print(f\"Records missing in the control group\\n\\n: {missing_control}\\n\\n\")\n",
    "missing_test = test_group[test_group.isnull().any(axis=1)]\n",
    "print(f\"Records missing in the test group\\n\\n: {missing_test}\")\n",
    "\n",
    "# The missingtes of the data across multiple covariates indicates Missingness Completely At Random. The best way to approch it is to remove\n",
    "# the record on 05.08.2019 from both datasets.\n",
    "\n",
    "control_group.drop(4,axis= 0, inplace = True)\n",
    "test_group.drop(4, axis=0,inplace = True)"
   ]
  },
  {
   "cell_type": "code",
   "execution_count": 150,
   "id": "ce14ab18-4851-426e-8e91-f0acaa396b80",
   "metadata": {},
   "outputs": [],
   "source": [
    "# Purchases per unit spend\n",
    "control_purchase_us = control_group.iloc[:,-1] / control_group[\"Spend [USD]\"]\n",
    "test_purchase_us = test_group.iloc[:,-1] / test_group[\"Spend [USD]\"]"
   ]
  },
  {
   "cell_type": "markdown",
   "id": "2ce8f01c-9719-4b34-8ef1-721efd8c3b20",
   "metadata": {},
   "source": [
    "## Verify the assumption of balanced groups"
   ]
  },
  {
   "cell_type": "code",
   "execution_count": 151,
   "id": "21575b03-a9fc-43be-9908-2f6854cea8aa",
   "metadata": {},
   "outputs": [
    {
     "data": {
      "text/plain": [
       "True"
      ]
     },
     "execution_count": 151,
     "metadata": {},
     "output_type": "execute_result"
    }
   ],
   "source": [
    "control_group[\"Date\"].equals(test_group[\"Date\"])"
   ]
  },
  {
   "cell_type": "markdown",
   "id": "5ed5531b-ec65-4ba9-bcfd-4a8bd86d71d2",
   "metadata": {},
   "source": [
    "## Assumptions for thetest statistics fro the two independent samples\n",
    "The variance of the population is not known, and the sample sizes are small, therefore t-test will be used.\n",
    "Let's assume 95% confidence interval, corresponding to 0.05 significance level (allowable rate of false positives). We define the hypotheses as follows:\n",
    "\n",
    "H_0 : mu0 >= mu1\n",
    "\n",
    "\n",
    "H_1 : mu0 < mu1.\n",
    "\n",
    "This specifies one-sided alternative hypothesis, which tests that the mean number of purchases is greater in the test group compared to the control group.\n",
    "\n"
   ]
  },
  {
   "cell_type": "code",
   "execution_count": 152,
   "id": "d9eaa94a-b4a0-4559-88fa-a1fc3d179e58",
   "metadata": {},
   "outputs": [],
   "source": [
    "t_stat, p_val = ttest_ind(control_purchase_us, test_purchase_us, alternative=\"greater\")"
   ]
  },
  {
   "cell_type": "code",
   "execution_count": 153,
   "id": "beaa528e-2068-4ba0-a092-47cd0c1d08a6",
   "metadata": {},
   "outputs": [
    {
     "name": "stdout",
     "output_type": "stream",
     "text": [
      "P-value for no purchases per unit spend: 0.103\n"
     ]
    }
   ],
   "source": [
    "print(f\"P-value for no purchases per unit spend: {np.round(p_val,3)}\")"
   ]
  },
  {
   "cell_type": "code",
   "execution_count": 154,
   "id": "cacc6a98-2997-4231-a4a0-4f27d8d84dee",
   "metadata": {},
   "outputs": [
    {
     "data": {
      "text/plain": [
       "np.float64(1.281896929721144)"
      ]
     },
     "execution_count": 154,
     "metadata": {},
     "output_type": "execute_result"
    }
   ],
   "source": [
    "t_stat"
   ]
  },
  {
   "cell_type": "code",
   "execution_count": 155,
   "id": "a5919bef-b6da-4432-add5-3887ab6cda20",
   "metadata": {},
   "outputs": [],
   "source": [
    "# Effect size\n",
    "# Sample sizes\n",
    "nC, nT = len(control_purchase_us), len(test_purchase_us)\n",
    "\n",
    "# Sample variances\n",
    "sC2 = np.var(control_purchase_us, ddof=1)\n",
    "sT2 = np.var(test_purchase_us, ddof=1)\n",
    "\n",
    "# Pooled variance formula\n",
    "s_pooled2 = ((nC - 1)*sC2 + (nT - 1)*sT2) / (nC + nT - 2)\n",
    "\n",
    "# Pooled standard deviation --> assumed equlity of variances\n",
    "s_pooled = np.sqrt(s_pooled2)\n",
    "sales_per_unit_spend_es = (np.mean(test_purchase_us) - np.mean(control_purchase_us))/ s_pooled"
   ]
  },
  {
   "cell_type": "code",
   "execution_count": 156,
   "id": "7356f37e-56b4-4820-aaf9-818aaf360980",
   "metadata": {},
   "outputs": [
    {
     "name": "stdout",
     "output_type": "stream",
     "text": [
      "Effect size in sales per unit spend on the campaign: -0.33664262627102776\n"
     ]
    }
   ],
   "source": [
    "print(f\"Effect size in sales per unit spend on the campaign: {sales_per_unit_spend_es}\")"
   ]
  },
  {
   "cell_type": "markdown",
   "id": "c6fa1313-0b74-4048-8038-a742c34c1645",
   "metadata": {},
   "source": [
    "The lack of signifficant difference in the number of purchases per unit spend suggests no substantial gain in the number of clients."
   ]
  },
  {
   "cell_type": "markdown",
   "id": "5471da98-c3ac-47b1-9b0c-fb570bdccb94",
   "metadata": {},
   "source": [
    "# Marketing Campaign"
   ]
  },
  {
   "cell_type": "markdown",
   "id": "186235ff-7450-453c-a070-5681d9ed2355",
   "metadata": {},
   "source": [
    "Even though the the new marketing campaing has no positive impact on the companie's revenue, other metrics may be worth analysing."
   ]
  },
  {
   "cell_type": "code",
   "execution_count": 157,
   "id": "6b61e98c-4216-4257-83ab-0af3ce569ddf",
   "metadata": {},
   "outputs": [
    {
     "name": "stdout",
     "output_type": "stream",
     "text": [
      "P-value for Click Through Rate: 0.0\n",
      "Effect size in Click Through Rate: -1.0456263742168976\n",
      "P-value for Conversion Rate: 0.061\n",
      "Effect size in Conversion Rate: -0.41199118711714816\n"
     ]
    }
   ],
   "source": [
    "# CTR = No Impressions / No Website Clicks (Click Through Rate)\n",
    "control_ctr = control_group[\"# of Impressions\"] / control_group[\"# of Website Clicks\"]\n",
    "test_ctr = test_group[\"# of Impressions\"] / test_group[\"# of Website Clicks\"]\n",
    "t_stat, p_val = ttest_ind(control_ctr, test_ctr, alternative=\"greater\")\n",
    "print(f\"P-value for Click Through Rate: {np.round(p_val,3)}\")\n",
    "# Sample variances\n",
    "sC2 = np.var(control_ctr, ddof = 1)\n",
    "sT2 = np.var(test_ctr, ddof = 1)\n",
    "# Pooled variance formula\n",
    "s_pooled2 = ((nC - 1)*sC2 + (nT - 1)*sT2) / (nC + nT - 2)\n",
    "# Pooled standard deviation --> assumed equlity of variances\n",
    "s_pooled = np.sqrt(s_pooled2)\n",
    "ctr_effect_size = (np.mean(test_ctr) - np.mean(control_ctr))/ s_pooled\n",
    "print(f\"Effect size in Click Through Rate: {ctr_effect_size}\")\n",
    "\n",
    "\n",
    "\n",
    "# CR = No Purchases / No Website Clicks (Conversion Rate) \n",
    "control_cr = control_group['# of Purchase'] / control_group['# of Website Clicks']\n",
    "test_cr = test_group['# of Purchase'] / test_group['# of Website Clicks']\n",
    "t_stat, p_val = ttest_ind(control_cr, test_cr, alternative=\"greater\")\n",
    "print(f\"P-value for Conversion Rate: {np.round(p_val,3)}\")\n",
    "# Sample variances\n",
    "sC2 = np.var(control_cr, ddof = 1)\n",
    "sT2 = np.var(test_cr, ddof = 1)\n",
    "# Pooled variance formula\n",
    "s_pooled2 = ((nC - 1)*sC2 + (nT - 1)*sT2) / (nC + nT - 2)\n",
    "# Pooled standard deviation --> assumed equlity of variances\n",
    "s_pooled = np.sqrt(s_pooled2)\n",
    "cr_effect_size = (np.mean(test_cr) - np.mean(control_cr))/ s_pooled\n",
    "print(f\"Effect size in Conversion Rate: {cr_effect_size}\")"
   ]
  },
  {
   "cell_type": "markdown",
   "id": "ca98621f-ff61-4c70-8c18-cc06a2e8b4f7",
   "metadata": {},
   "source": [
    "Both Click-Through Rate and Conversion Rate declined in the test condition compared with the control.\n",
    "The effect was large for CTR (d = −1.05), indicating a substantial reduction, and moderate for CR (d = −0.41), suggesting a noticeable but smaller impact."
   ]
  }
 ],
 "metadata": {
  "kernelspec": {
   "display_name": "Python 3 (ipykernel)",
   "language": "python",
   "name": "python3"
  },
  "language_info": {
   "codemirror_mode": {
    "name": "ipython",
    "version": 3
   },
   "file_extension": ".py",
   "mimetype": "text/x-python",
   "name": "python",
   "nbconvert_exporter": "python",
   "pygments_lexer": "ipython3",
   "version": "3.13.5"
  }
 },
 "nbformat": 4,
 "nbformat_minor": 5
}
